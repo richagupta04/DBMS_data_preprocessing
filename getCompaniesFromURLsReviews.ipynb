{
 "cells": [
  {
   "cell_type": "code",
   "execution_count": 1,
   "metadata": {},
   "outputs": [],
   "source": [
    "import pandas as pd"
   ]
  },
  {
   "cell_type": "code",
   "execution_count": 2,
   "metadata": {},
   "outputs": [
    {
     "name": "stdout",
     "output_type": "stream",
     "text": [
      "0         Reliance Industries Ltd\n",
      "1         Reliance Industries Ltd\n",
      "2         Reliance Industries Ltd\n",
      "3         Reliance Industries Ltd\n",
      "4         Reliance Industries Ltd\n",
      "5         Reliance Industries Ltd\n",
      "6         Reliance Industries Ltd\n",
      "7                         Mphasis\n",
      "8                            Kpmg\n",
      "9         Reliance Industries Ltd\n",
      "10        Reliance Industries Ltd\n",
      "11        Reliance Industries Ltd\n",
      "12                       Yes Bank\n",
      "13                        Mphasis\n",
      "14                        Mphasis\n",
      "15                        Mphasis\n",
      "16                           Kpmg\n",
      "17                           Kpmg\n",
      "18                           Kpmg\n",
      "19        Reliance Industries Ltd\n",
      "20        Reliance Industries Ltd\n",
      "21        Reliance Industries Ltd\n",
      "22                     Sutherland\n",
      "23                       Yes Bank\n",
      "24                       Yes Bank\n",
      "25                       Yes Bank\n",
      "26                       Yes Bank\n",
      "27                       Yes Bank\n",
      "28                        Mphasis\n",
      "29                        Mphasis\n",
      "                   ...           \n",
      "145179                       Tata\n",
      "145180                       Tata\n",
      "145181                       Tata\n",
      "145182                       Tata\n",
      "145183                       Tata\n",
      "145184                       Tata\n",
      "145185                       Tata\n",
      "145186                       Tata\n",
      "145187                       Tata\n",
      "145188                       Tata\n",
      "145189                       Tata\n",
      "145190                       Tata\n",
      "145191                       Tata\n",
      "145192                       Tata\n",
      "145193                       Tata\n",
      "145194                       Tata\n",
      "145195                       Tata\n",
      "145196                       Tata\n",
      "145197                       Tata\n",
      "145198                       Tata\n",
      "145199                       Tata\n",
      "145200                       Tata\n",
      "145201                       Tata\n",
      "145202                       Tata\n",
      "145203                       Tata\n",
      "145204                       Tata\n",
      "145205                       Tata\n",
      "145206                       Tata\n",
      "145207                       Tata\n",
      "145208                       Tata\n",
      "Name: URL, Length: 145209, dtype: object\n"
     ]
    }
   ],
   "source": [
    "col_list = [\"URL\"]\n",
    "df = pd.read_csv(\"data_file_review.csv\", usecols=col_list)\n",
    "\n",
    "#print(df[\"URL\"])\n",
    "newList = df[\"URL\"]\n",
    "#print(newList[0])\n",
    "for i in range(len(newList)):\n",
    "    line1 = newList[i]\n",
    "    #print(line1)\n",
    "    line1 = line1.split(\"/\")\n",
    "    newList[i] = line1[len(line1)-2]\n",
    "print(newList)\n",
    "\n"
   ]
  },
  {
   "cell_type": "code",
   "execution_count": 3,
   "metadata": {},
   "outputs": [],
   "source": [
    "uniq = list(set(newList))"
   ]
  },
  {
   "cell_type": "code",
   "execution_count": 6,
   "metadata": {},
   "outputs": [],
   "source": [
    "df2 = pd.DataFrame(newList)\n",
    "df2.to_csv('companies_from_reviews.csv') "
   ]
  },
  {
   "cell_type": "code",
   "execution_count": 4,
   "metadata": {},
   "outputs": [],
   "source": [
    "df3 = pd.DataFrame(uniq)\n",
    "df3.to_csv('companies_from_reviews_unique_replaced.csv')"
   ]
  },
  {
   "cell_type": "code",
   "execution_count": null,
   "metadata": {},
   "outputs": [],
   "source": []
  }
 ],
 "metadata": {
  "kernelspec": {
   "display_name": "Python 2",
   "language": "python",
   "name": "python2"
  },
  "language_info": {
   "codemirror_mode": {
    "name": "ipython",
    "version": 2
   },
   "file_extension": ".py",
   "mimetype": "text/x-python",
   "name": "python",
   "nbconvert_exporter": "python",
   "pygments_lexer": "ipython2",
   "version": "2.7.18"
  }
 },
 "nbformat": 4,
 "nbformat_minor": 2
}
